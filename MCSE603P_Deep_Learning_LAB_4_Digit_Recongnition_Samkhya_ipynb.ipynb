{
  "nbformat": 4,
  "nbformat_minor": 0,
  "metadata": {
    "colab": {
      "provenance": [],
      "include_colab_link": true
    },
    "kernelspec": {
      "display_name": "Python 3",
      "name": "python3"
    }
  },
  "cells": [
    {
      "cell_type": "markdown",
      "metadata": {
        "id": "view-in-github",
        "colab_type": "text"
      },
      "source": [
        "<a href=\"https://colab.research.google.com/github/prakharagrawal10/deep-learning/blob/main/MCSE603P_Deep_Learning_LAB_4_Digit_Recongnition_Samkhya_ipynb.ipynb\" target=\"_parent\"><img src=\"https://colab.research.google.com/assets/colab-badge.svg\" alt=\"Open In Colab\"/></a>"
      ]
    },
    {
      "cell_type": "markdown",
      "metadata": {
        "id": "8YgYthLRZcEk"
      },
      "source": [
        "# **Digit Recognition Using Machine Learning**\n",
        "\n",
        "Here is a small example for recognizing digit. We call the model as Samkhya. You can run the code below, block by block. The best way to learn is by doing\n",
        "\n",
        "\n",
        "![images.png](data:image/png;base64,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)"
      ]
    },
    {
      "cell_type": "markdown",
      "source": [
        "TensorFlow: model tracking for prediction\n",
        "\n",
        "Matplotlib: to plot graphs\n",
        "\n",
        "Keras: API for TensorFlow\n",
        "\n",
        "Tensorflow.keras.models: to build a machine learning model. We will import Sequential ( a stack of layers with only one input tensor and one output tensor).\n",
        "\n",
        "Sklearn.model: to split the data into a training set and a test set\n",
        "\n",
        "Tensorflow.keras.layers: importing different layers to implement deep learning.\n",
        "\n",
        "The description of the layers is mentioned below –\n",
        "Dense: creating feed-forward neural networks, meaning that every input and every output is dependent reciprocally.\n",
        "\n",
        "Flatten: serializing multi-dimensional tensor.\n",
        "\n",
        "Dropout: to prevent overfitting.\n",
        "\n",
        "conv2D: a 2D convolution layer to maintain the relation between pixels of image data.\n",
        "\n",
        "MaxPooling2D: reduce the spatial size."
      ],
      "metadata": {
        "id": "ZrhuA-ghP0r6"
      }
    },
    {
      "cell_type": "code",
      "metadata": {
        "id": "E3rbaeywZsji"
      },
      "source": [
        "import tensorflow as tf\n",
        "from tensorflow.keras import datasets,layers,Sequential\n",
        "from tensorflow.keras.utils import to_categorical\n",
        "from tensorflow.keras.layers import Dense, Conv2D, Flatten, MaxPooling2D\n",
        "import matplotlib.pyplot as plt"
      ],
      "execution_count": null,
      "outputs": []
    },
    {
      "cell_type": "code",
      "metadata": {
        "id": "4dQvvtxLZ-5x",
        "colab": {
          "base_uri": "https://localhost:8080/"
        },
        "outputId": "7d909f16-c505-4862-de2b-0b82894649f3"
      },
      "source": [
        "(TrainIn, TrainOut), (TestIn, TestOut) = datasets.mnist.load_data()\n",
        "TrainIn = TrainIn.reshape(60000,28,28,1)\n",
        "TestIn = TestIn.reshape(10000,28,28,1)\n",
        "TrainOut = to_categorical(TrainOut)\n",
        "TestOut = to_categorical(TestOut)\n"
      ],
      "execution_count": null,
      "outputs": [
        {
          "output_type": "stream",
          "name": "stdout",
          "text": [
            "Downloading data from https://storage.googleapis.com/tensorflow/tf-keras-datasets/mnist.npz\n",
            "11490434/11490434 [==============================] - 0s 0us/step\n"
          ]
        }
      ]
    },
    {
      "cell_type": "markdown",
      "source": [
        "(i) Building a Deep Neural Net"
      ],
      "metadata": {
        "id": "_fitgg1eFeR5"
      }
    },
    {
      "cell_type": "code",
      "source": [
        "Samkhya = Sequential()\n",
        "# Add Flatten/Dense Layers\n",
        "Samkhya.add(Flatten(name='F1'))\n",
        "Samkhya.add(Dense(100, activation='softmax',name='D1'))\n",
        "Samkhya.add(Dense(100, activation='softmax',name='D2'))\n",
        "Samkhya.add(Dense(10, activation='softmax',name='D3'))\n",
        "\n",
        "Samkhya.compile(optimizer='sgd', loss='mse', metrics=['accuracy'])"
      ],
      "metadata": {
        "id": "abic_bjPFjwZ"
      },
      "execution_count": null,
      "outputs": []
    },
    {
      "cell_type": "code",
      "source": [
        "TrainingLog=Samkhya.fit(TrainIn, TrainOut,epochs=10, validation_split=0.1)"
      ],
      "metadata": {
        "id": "TmwigUNkF9cw",
        "colab": {
          "base_uri": "https://localhost:8080/"
        },
        "outputId": "a3352ea2-afcc-4bc4-ea30-2421e869b324"
      },
      "execution_count": null,
      "outputs": [
        {
          "output_type": "stream",
          "name": "stdout",
          "text": [
            "Epoch 1/10\n",
            "1688/1688 [==============================] - 6s 3ms/step - loss: 0.0900 - accuracy: 0.1132 - val_loss: 0.0900 - val_accuracy: 0.1050\n",
            "Epoch 2/10\n",
            "1688/1688 [==============================] - 7s 4ms/step - loss: 0.0900 - accuracy: 0.1132 - val_loss: 0.0900 - val_accuracy: 0.1050\n",
            "Epoch 3/10\n",
            "1688/1688 [==============================] - 6s 4ms/step - loss: 0.0900 - accuracy: 0.1132 - val_loss: 0.0900 - val_accuracy: 0.1050\n",
            "Epoch 4/10\n",
            "1688/1688 [==============================] - 7s 4ms/step - loss: 0.0900 - accuracy: 0.1132 - val_loss: 0.0900 - val_accuracy: 0.1050\n",
            "Epoch 5/10\n",
            "1688/1688 [==============================] - 6s 4ms/step - loss: 0.0900 - accuracy: 0.1132 - val_loss: 0.0900 - val_accuracy: 0.1050\n",
            "Epoch 6/10\n",
            "1688/1688 [==============================] - 7s 4ms/step - loss: 0.0900 - accuracy: 0.1132 - val_loss: 0.0900 - val_accuracy: 0.1050\n",
            "Epoch 7/10\n",
            "1688/1688 [==============================] - 6s 4ms/step - loss: 0.0900 - accuracy: 0.1132 - val_loss: 0.0900 - val_accuracy: 0.1050\n",
            "Epoch 8/10\n",
            "1688/1688 [==============================] - 6s 4ms/step - loss: 0.0900 - accuracy: 0.1132 - val_loss: 0.0900 - val_accuracy: 0.1050\n",
            "Epoch 9/10\n",
            "1688/1688 [==============================] - 6s 4ms/step - loss: 0.0900 - accuracy: 0.1132 - val_loss: 0.0900 - val_accuracy: 0.1050\n",
            "Epoch 10/10\n",
            "1688/1688 [==============================] - 6s 4ms/step - loss: 0.0900 - accuracy: 0.1132 - val_loss: 0.0900 - val_accuracy: 0.1050\n"
          ]
        }
      ]
    },
    {
      "cell_type": "markdown",
      "source": [
        "**Activity 1:**\n",
        "\n",
        "Execute the above Multi Layer Perceptron and comment on the learning Accuracy"
      ],
      "metadata": {
        "id": "ekm8vFY8JQmF"
      }
    },
    {
      "cell_type": "markdown",
      "source": [
        "**Activity 2:**\n",
        "Try Changing the hyper parameters and develop a better MLP for classification"
      ],
      "metadata": {
        "id": "oyZ24biRJrPX"
      }
    },
    {
      "cell_type": "code",
      "source": [
        "Samkhya = Sequential()\n",
        "# Add classification  layer\n",
        "Samkhya.add(Flatten(name='flatten'))\n",
        "Samkhya.add(Dense(10, activation='sigmoid',name='dense1'))\n",
        "Samkhya.add(Dense(10, activation='softmax',name='dense2'))\n",
        "Samkhya.compile(optimizer='adam', loss='categorical_crossentropy', metrics=[ 'categorical_accuracy'])"
      ],
      "metadata": {
        "id": "lHunUDmFGngN"
      },
      "execution_count": null,
      "outputs": []
    },
    {
      "cell_type": "code",
      "source": [
        "TrainingLog=Samkhya.fit(TrainIn, TrainOut,epochs=20, validation_split=0.1)"
      ],
      "metadata": {
        "id": "kLLWKNycGs1g"
      },
      "execution_count": null,
      "outputs": []
    },
    {
      "cell_type": "code",
      "source": [
        "print(Samkhya.summary())"
      ],
      "metadata": {
        "colab": {
          "base_uri": "https://localhost:8080/"
        },
        "id": "R2QiZymkHXlL",
        "outputId": "ab5531d1-607f-4d61-d6dd-89cfa31544f8"
      },
      "execution_count": null,
      "outputs": [
        {
          "output_type": "stream",
          "name": "stdout",
          "text": [
            "Model: \"sequential_2\"\n",
            "_________________________________________________________________\n",
            " Layer (type)                Output Shape              Param #   \n",
            "=================================================================\n",
            " flatten (Flatten)           (None, 784)               0         \n",
            "                                                                 \n",
            " dense1 (Dense)              (None, 10)                7850      \n",
            "                                                                 \n",
            " dense2 (Dense)              (None, 10)                110       \n",
            "                                                                 \n",
            "=================================================================\n",
            "Total params: 7,960\n",
            "Trainable params: 7,960\n",
            "Non-trainable params: 0\n",
            "_________________________________________________________________\n",
            "None\n"
          ]
        }
      ]
    },
    {
      "cell_type": "code",
      "source": [
        "plt.plot(TrainingLog.history['categorical_accuracy'], label='Train_accuracy')\n",
        "plt.plot(TrainingLog.history['val_categorical_accuracy'], label = 'val_accuracy')\n",
        "plt.xlabel('Epoch')\n",
        "plt.ylabel('Accuracy')\n",
        "plt.legend(loc='lower right')"
      ],
      "metadata": {
        "id": "rdlNC3mCHl-8"
      },
      "execution_count": null,
      "outputs": []
    },
    {
      "cell_type": "markdown",
      "source": [
        "**Testing the Model**"
      ],
      "metadata": {
        "id": "x5-JbRxPNf5r"
      }
    },
    {
      "cell_type": "code",
      "source": [
        "Samkhya.evaluate(TestIn, TestOut)"
      ],
      "metadata": {
        "colab": {
          "base_uri": "https://localhost:8080/"
        },
        "id": "rYif5qr1Hvfw",
        "outputId": "59ff02b8-3232-433d-b265-503d30637e6b"
      },
      "execution_count": null,
      "outputs": [
        {
          "output_type": "stream",
          "name": "stdout",
          "text": [
            "313/313 [==============================] - 1s 2ms/step - loss: 0.4383 - categorical_accuracy: 0.8775\n"
          ]
        },
        {
          "output_type": "execute_result",
          "data": {
            "text/plain": [
              "[0.43825796246528625, 0.8774999976158142]"
            ]
          },
          "metadata": {},
          "execution_count": 17
        }
      ]
    },
    {
      "cell_type": "code",
      "source": [
        "image_index = 44\n",
        "plt.imshow(TestIn[image_index].reshape(28, 28),cmap='Greys')\n",
        "pred = Samkhya.predict(TestIn[image_index].reshape(1, 28, 28, 1))\n",
        "print(pred.argmax())"
      ],
      "metadata": {
        "id": "20aFdcR6H19r"
      },
      "execution_count": null,
      "outputs": []
    },
    {
      "cell_type": "markdown",
      "source": [
        "**Activity 3 :**\n",
        "Change the image index in the above cell and check whether prediction and actual image labelling matches .\n",
        "\n",
        "Summarize your observation"
      ],
      "metadata": {
        "id": "89p5mxi0KDNv"
      }
    },
    {
      "cell_type": "code",
      "source": [
        "predicted_classes1 = Samkhya.predict(TestIn)\n",
        "predicted_classes1=tf.argmax(predicted_classes1,axis=1)\n",
        "predicted_classes1"
      ],
      "metadata": {
        "colab": {
          "base_uri": "https://localhost:8080/"
        },
        "id": "Al89RSwdMgfI",
        "outputId": "9622b504-d4fd-45a5-8466-d6f64b2e045e"
      },
      "execution_count": null,
      "outputs": [
        {
          "output_type": "stream",
          "name": "stdout",
          "text": [
            "313/313 [==============================] - 0s 1ms/step\n"
          ]
        },
        {
          "output_type": "execute_result",
          "data": {
            "text/plain": [
              "<tf.Tensor: shape=(10000,), dtype=int64, numpy=array([7, 2, 1, ..., 4, 8, 6])>"
            ]
          },
          "metadata": {},
          "execution_count": 51
        }
      ]
    },
    {
      "cell_type": "code",
      "source": [
        "actual1 = tf.argmax(TestOut,axis=1)\n",
        "actual1"
      ],
      "metadata": {
        "colab": {
          "base_uri": "https://localhost:8080/"
        },
        "id": "v_TrPG3_KqNq",
        "outputId": "24c5f54a-b32a-4f70-afbc-b1b3a44be633"
      },
      "execution_count": null,
      "outputs": [
        {
          "output_type": "execute_result",
          "data": {
            "text/plain": [
              "<tf.Tensor: shape=(10000,), dtype=int64, numpy=array([7, 2, 1, ..., 4, 5, 6])>"
            ]
          },
          "metadata": {},
          "execution_count": 55
        }
      ]
    },
    {
      "cell_type": "code",
      "source": [
        "from sklearn.metrics import confusion_matrix, classification_report\n",
        "\n",
        "import seaborn as sns\n",
        "cm = confusion_matrix(actual1, predicted_classes1)\n",
        "cm\n",
        "plt.figure(figsize = (10, 10))\n",
        "sns.heatmap(cm, annot = True)"
      ],
      "metadata": {
        "id": "Vz5SqEZ_NN51"
      },
      "execution_count": null,
      "outputs": []
    },
    {
      "cell_type": "code",
      "source": [
        "Classes = [\"Zero\",\"One\",\"Two\",\"Three\",\"Four\", \"Five\", \"Six\", \"Seven\", \"Eight\", \"Nine\"]\n",
        "print(classification_report(actual1, predicted_classes1, target_names=Classes))"
      ],
      "metadata": {
        "id": "3xxITY12Q93D"
      },
      "execution_count": null,
      "outputs": []
    },
    {
      "cell_type": "markdown",
      "source": [
        "(ii) Deep Convnets"
      ],
      "metadata": {
        "id": "JnFHoh5pHT6m"
      }
    },
    {
      "cell_type": "code",
      "metadata": {
        "id": "INLw-rwiaF_p"
      },
      "source": [
        "Samkhya1 = Sequential()\n",
        "#add Convolution  Layers\n",
        "Samkhya1.add(Conv2D(64, kernel_size=3, activation='relu', input_shape=(28,28,1),name='c1'))\n",
        "Samkhya1.add(MaxPooling2D(pool_size=(2, 2)))\n",
        "Samkhya1.add(Conv2D(64, kernel_size=3, activation='relu', input_shape=(28,28,1),name='c2'))\n",
        "Samkhya1.add(MaxPooling2D(pool_size=(2, 2)))\n",
        "\n",
        "\n",
        "# Add Flatten/Dense Layers\n",
        "Samkhya1.add(Flatten(name='F1'))\n",
        "Samkhya1.add(Dense(10, activation='softmax',name='D1'))\n",
        "\n",
        "Samkhya1.compile(optimizer='sgd', loss='mse', metrics=['accuracy'])"
      ],
      "execution_count": null,
      "outputs": []
    },
    {
      "cell_type": "code",
      "metadata": {
        "id": "V_w9ohsJaaIA",
        "colab": {
          "base_uri": "https://localhost:8080/"
        },
        "outputId": "4d658564-e49a-4460-d9b0-6f93f87904a1"
      },
      "source": [
        "print(Samkhya1.summary())"
      ],
      "execution_count": null,
      "outputs": [
        {
          "output_type": "stream",
          "name": "stdout",
          "text": [
            "Model: \"sequential_3\"\n",
            "_________________________________________________________________\n",
            " Layer (type)                Output Shape              Param #   \n",
            "=================================================================\n",
            " c1 (Conv2D)                 (None, 26, 26, 64)        640       \n",
            "                                                                 \n",
            " max_pooling2d (MaxPooling2D  (None, 13, 13, 64)       0         \n",
            " )                                                               \n",
            "                                                                 \n",
            " c2 (Conv2D)                 (None, 11, 11, 64)        36928     \n",
            "                                                                 \n",
            " max_pooling2d_1 (MaxPooling  (None, 5, 5, 64)         0         \n",
            " 2D)                                                             \n",
            "                                                                 \n",
            " F1 (Flatten)                (None, 1600)              0         \n",
            "                                                                 \n",
            " D1 (Dense)                  (None, 10)                16010     \n",
            "                                                                 \n",
            "=================================================================\n",
            "Total params: 53,578\n",
            "Trainable params: 53,578\n",
            "Non-trainable params: 0\n",
            "_________________________________________________________________\n",
            "None\n"
          ]
        }
      ]
    },
    {
      "cell_type": "code",
      "metadata": {
        "id": "wNcOgucJaeuo"
      },
      "source": [
        "TrainingLog=Samkhya1.fit(TrainIn, TrainOut,epochs=10, validation_split=0.1)"
      ],
      "execution_count": null,
      "outputs": []
    },
    {
      "cell_type": "code",
      "source": [
        "plt.plot(TrainingLog.history['accuracy'], label='Train_accuracy')\n",
        "plt.plot(TrainingLog.history['val_accuracy'], label = 'val_accuracy')\n",
        "plt.xlabel('Epoch')\n",
        "plt.ylabel('Accuracy')\n",
        "plt.legend(loc='lower right')"
      ],
      "metadata": {
        "id": "2VTRl1kOTTkq"
      },
      "execution_count": null,
      "outputs": []
    },
    {
      "cell_type": "markdown",
      "metadata": {
        "id": "I_OlcX86anCv"
      },
      "source": [
        "# **Testing the Digit Recognition**"
      ]
    },
    {
      "cell_type": "code",
      "metadata": {
        "id": "TdiBCCuzaxgG",
        "colab": {
          "base_uri": "https://localhost:8080/"
        },
        "outputId": "609017da-38c3-4090-994b-a9de2cace07c"
      },
      "source": [
        "[Socre0,Score1]=Samkhya1.evaluate(TestIn, TestOut)"
      ],
      "execution_count": null,
      "outputs": [
        {
          "output_type": "stream",
          "name": "stdout",
          "text": [
            "313/313 [==============================] - 5s 15ms/step - loss: 0.0035 - accuracy: 0.9777\n"
          ]
        }
      ]
    },
    {
      "cell_type": "code",
      "metadata": {
        "id": "kxatA_gVN4JM",
        "colab": {
          "base_uri": "https://localhost:8080/"
        },
        "outputId": "639a48de-cdec-46bb-ec6e-07577e138363"
      },
      "source": [
        "print(\"The confidence score is\",Score1)"
      ],
      "execution_count": null,
      "outputs": [
        {
          "output_type": "stream",
          "name": "stdout",
          "text": [
            "The confidence score is 0.9776999950408936\n"
          ]
        }
      ]
    },
    {
      "cell_type": "code",
      "metadata": {
        "id": "AF31Zzgla3OO"
      },
      "source": [
        "\n",
        "plt.imshow(TestIn[10].reshape(28, 28),cmap='gray')\n"
      ],
      "execution_count": null,
      "outputs": []
    },
    {
      "cell_type": "code",
      "metadata": {
        "id": "-xcIPS6Q-uzG",
        "colab": {
          "base_uri": "https://localhost:8080/"
        },
        "outputId": "0895d931-4d2b-433f-8fe3-310018820f9c"
      },
      "source": [
        "pred = Samkhya1.predict(TestIn[10].reshape(1, 28, 28, 1))\n",
        "print(\"The Samkhya predicted is\",pred.argmax())"
      ],
      "execution_count": null,
      "outputs": [
        {
          "output_type": "stream",
          "name": "stdout",
          "text": [
            "1/1 [==============================] - 0s 77ms/step\n",
            "The Samkhya predicted is 0\n"
          ]
        }
      ]
    },
    {
      "cell_type": "code",
      "source": [
        "predicted_classes = Samkhya1.predict(TestIn)\n",
        "predicted_classes=tf.argmax(predicted_classes,axis=1)\n",
        "predicted_classes"
      ],
      "metadata": {
        "colab": {
          "base_uri": "https://localhost:8080/"
        },
        "id": "BT7nPYUvSk-o",
        "outputId": "085edbe8-f2db-456b-8f85-7d4b6264f495"
      },
      "execution_count": null,
      "outputs": [
        {
          "output_type": "stream",
          "name": "stdout",
          "text": [
            "313/313 [==============================] - 8s 24ms/step\n"
          ]
        },
        {
          "output_type": "execute_result",
          "data": {
            "text/plain": [
              "<tf.Tensor: shape=(10000,), dtype=int64, numpy=array([7, 2, 1, ..., 4, 5, 6])>"
            ]
          },
          "metadata": {},
          "execution_count": 47
        }
      ]
    },
    {
      "cell_type": "code",
      "source": [
        "actual = tf.argmax(TestOut,axis=1)\n",
        "actual"
      ],
      "metadata": {
        "colab": {
          "base_uri": "https://localhost:8080/"
        },
        "id": "wuAdQKD0St72",
        "outputId": "b1650cfd-e61e-4a04-fae6-6e5c6b6624a6"
      },
      "execution_count": null,
      "outputs": [
        {
          "output_type": "execute_result",
          "data": {
            "text/plain": [
              "<tf.Tensor: shape=(10000,), dtype=int64, numpy=array([7, 2, 1, ..., 4, 5, 6])>"
            ]
          },
          "metadata": {},
          "execution_count": 48
        }
      ]
    },
    {
      "cell_type": "code",
      "source": [
        "from sklearn.metrics import confusion_matrix, classification_report\n",
        "\n",
        "import seaborn as sns\n",
        "cm = confusion_matrix(actual, predicted_classes)\n",
        "cm\n",
        "plt.figure(figsize = (10, 10))\n",
        "sns.heatmap(cm, annot = True)"
      ],
      "metadata": {
        "id": "tolYZM2oS2rw"
      },
      "execution_count": null,
      "outputs": []
    },
    {
      "cell_type": "code",
      "source": [],
      "metadata": {
        "id": "z8-JgKu_TyqD"
      },
      "execution_count": null,
      "outputs": []
    },
    {
      "cell_type": "code",
      "source": [
        "Classes = [\"Zero\",\"One\",\"Two\",\"Three\",\"Four\", \"Five\", \"Six\", \"Seven\", \"Eight\", \"Nine\"]\n",
        "print(classification_report(actual, predicted_classes, target_names=Classes))"
      ],
      "metadata": {
        "id": "ZcKNHePsTzEG"
      },
      "execution_count": null,
      "outputs": []
    },
    {
      "cell_type": "markdown",
      "metadata": {
        "id": "hytdHv39fMdw"
      },
      "source": [
        "Let us try uploading handwrtitten digits from laptop/system"
      ]
    },
    {
      "cell_type": "code",
      "metadata": {
        "id": "7hUUxdnvfpfO"
      },
      "source": [
        "import PIL\n",
        "from PIL import  ImageEnhance , ImageOps\n",
        "from tensorflow.keras.preprocessing.image import img_to_array"
      ],
      "execution_count": null,
      "outputs": []
    },
    {
      "cell_type": "code",
      "metadata": {
        "id": "GzcLAW9Yfyo_"
      },
      "source": [
        "aksharam = PIL.Image.open('poojyam.png')\n",
        "plt.imshow(aksharam)"
      ],
      "execution_count": null,
      "outputs": []
    },
    {
      "cell_type": "code",
      "metadata": {
        "id": "UpjO-T5pgYPs"
      },
      "source": [
        "aksharam1 = ImageOps.grayscale(aksharam)\n",
        "plt.imshow(aksharam1,cmap='gray')\n",
        "newsize = (28, 28)\n",
        "aksharam2=aksharam1.resize(newsize)\n",
        "plt.imshow(aksharam2,cmap='gray')\n",
        "aksharam2.size"
      ],
      "execution_count": null,
      "outputs": []
    },
    {
      "cell_type": "code",
      "metadata": {
        "id": "VQK-rTmCgfXk",
        "outputId": "41792515-27b2-48ab-8a24-cc07d2df873d",
        "colab": {
          "base_uri": "https://localhost:8080/",
          "height": 227
        }
      },
      "source": [
        "aksharam3= img_to_array(aksharam2)\n",
        "aksharam3= aksharam3.reshape(1, 28, 28, 1)\n",
        "predictions = Samkhya.predict(aksharam3)\n",
        "print(\"The Samkhya predicted is\",predictions.argmax())"
      ],
      "execution_count": null,
      "outputs": [
        {
          "output_type": "error",
          "ename": "NameError",
          "evalue": "ignored",
          "traceback": [
            "\u001b[0;31m---------------------------------------------------------------------------\u001b[0m",
            "\u001b[0;31mNameError\u001b[0m                                 Traceback (most recent call last)",
            "\u001b[0;32m<ipython-input-1-9dfd9cc7d657>\u001b[0m in \u001b[0;36m<cell line: 1>\u001b[0;34m()\u001b[0m\n\u001b[0;32m----> 1\u001b[0;31m \u001b[0maksharam3\u001b[0m\u001b[0;34m=\u001b[0m \u001b[0mimg_to_array\u001b[0m\u001b[0;34m(\u001b[0m\u001b[0maksharam2\u001b[0m\u001b[0;34m)\u001b[0m\u001b[0;34m\u001b[0m\u001b[0;34m\u001b[0m\u001b[0m\n\u001b[0m\u001b[1;32m      2\u001b[0m \u001b[0maksharam3\u001b[0m\u001b[0;34m=\u001b[0m \u001b[0maksharam3\u001b[0m\u001b[0;34m.\u001b[0m\u001b[0mreshape\u001b[0m\u001b[0;34m(\u001b[0m\u001b[0;36m1\u001b[0m\u001b[0;34m,\u001b[0m \u001b[0;36m28\u001b[0m\u001b[0;34m,\u001b[0m \u001b[0;36m28\u001b[0m\u001b[0;34m,\u001b[0m \u001b[0;36m1\u001b[0m\u001b[0;34m)\u001b[0m\u001b[0;34m\u001b[0m\u001b[0;34m\u001b[0m\u001b[0m\n\u001b[1;32m      3\u001b[0m \u001b[0mpredictions\u001b[0m \u001b[0;34m=\u001b[0m \u001b[0mSamkhya\u001b[0m\u001b[0;34m.\u001b[0m\u001b[0mpredict\u001b[0m\u001b[0;34m(\u001b[0m\u001b[0maksharam3\u001b[0m\u001b[0;34m)\u001b[0m\u001b[0;34m\u001b[0m\u001b[0;34m\u001b[0m\u001b[0m\n\u001b[1;32m      4\u001b[0m \u001b[0mprint\u001b[0m\u001b[0;34m(\u001b[0m\u001b[0;34m\"The Samkhya predicted is\"\u001b[0m\u001b[0;34m,\u001b[0m\u001b[0mpredictions\u001b[0m\u001b[0;34m.\u001b[0m\u001b[0margmax\u001b[0m\u001b[0;34m(\u001b[0m\u001b[0;34m)\u001b[0m\u001b[0;34m)\u001b[0m\u001b[0;34m\u001b[0m\u001b[0;34m\u001b[0m\u001b[0m\n",
            "\u001b[0;31mNameError\u001b[0m: name 'img_to_array' is not defined"
          ]
        }
      ]
    },
    {
      "cell_type": "markdown",
      "source": [
        "Activity : Build other models with  train and test images of ratio 60:40 , 70:30 and 80:20\n",
        "\n",
        "Compare the differnt models in terms of model parmaters, accuracy and hyper parameters"
      ],
      "metadata": {
        "id": "hMSKYbL4VgsZ"
      }
    }
  ]
}